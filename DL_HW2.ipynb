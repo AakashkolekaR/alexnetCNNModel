{
  "cells": [
    {
      "cell_type": "markdown",
      "metadata": {
        "id": "dKcAz7t9_d3i"
      },
      "source": [
        "Here are the categories in the Fashion-MNIST\n",
        "\n",
        "|Label | Class |\n",
        "|-|-|\n",
        "|0|\tT-shirt/top|\n",
        "|1|\tTrouser|\n",
        "|2|\tPullover|\n",
        "|3|\tDress|\n",
        "|4|\tCoat|\n",
        "|5|\tSandal|\n",
        "|6|\tShirt|\n",
        "|7|\tSneaker|\n",
        "|8|\tBag|\n",
        "|9|\tAnkle boot|\n",
        "\n"
      ]
    },
    {
      "cell_type": "markdown",
      "source": [
        "### The training dataset comprises of 60,000 instances and the testing dataset comprises of 10,000 instances. The images have just one channel because they are gray scale images."
      ],
      "metadata": {
        "id": "tXTMnFrfxaff"
      }
    },
    {
      "cell_type": "markdown",
      "metadata": {
        "id": "ZxwJIhjyRL1f"
      },
      "source": [
        "# Ready to work"
      ]
    },
    {
      "cell_type": "code",
      "execution_count": 6,
      "metadata": {
        "id": "so9k_W_C_d3j"
      },
      "outputs": [],
      "source": [
        "import os\n",
        "import torch\n",
        "import torchvision\n",
        "import numpy as np\n",
        "import pandas as pd\n",
        "import torch.nn as nn\n",
        "import torch.optim as optim\n",
        "import matplotlib.pyplot as plt\n",
        "import torch.nn.functional as F\n",
        "from PIL import Image\n",
        "from torchvision import transforms, datasets\n",
        "from torch.utils.data import Dataset, DataLoader"
      ]
    },
    {
      "cell_type": "markdown",
      "metadata": {
        "id": "obz9EflvRL1g"
      },
      "source": [
        "Define some global variables"
      ]
    },
    {
      "cell_type": "code",
      "execution_count": 7,
      "metadata": {
        "colab": {
          "base_uri": "https://localhost:8080/"
        },
        "id": "jC2LMxFqRL1g",
        "outputId": "92223631-e066-4326-a35f-8ab964f5a381"
      },
      "outputs": [
        {
          "output_type": "stream",
          "name": "stdout",
          "text": [
            "1.10.0+cu111\n",
            "cuda\n"
          ]
        }
      ],
      "source": [
        "# training batches of our network\n",
        "EPOCHS = 5\n",
        "# size of each batch\n",
        "BATCH_SIZE = 64\n",
        "\n",
        "DEVICE = (\"cuda\" if torch.cuda.is_available() else \"cpu\")\n",
        "class_names = ['T-shirt/top', 'Trouser', 'Pullover', 'Dress', 'Coat',\n",
        "               'Sandal', 'Shirt', 'Sneaker', 'Bag', 'Ankle boot']\n",
        "\n",
        "print(torch.__version__)\n",
        "print(DEVICE)"
      ]
    },
    {
      "cell_type": "code",
      "source": [
        "from google.colab import drive\n",
        "drive.mount('/content/drive')"
      ],
      "metadata": {
        "colab": {
          "base_uri": "https://localhost:8080/"
        },
        "id": "q1I8n8IveDeI",
        "outputId": "bd020b89-8920-45c0-d4bd-7d9956f933d2"
      },
      "execution_count": 3,
      "outputs": [
        {
          "output_type": "stream",
          "name": "stdout",
          "text": [
            "Mounted at /content/drive\n"
          ]
        }
      ]
    },
    {
      "cell_type": "markdown",
      "metadata": {
        "id": "fcnXRreC_d3o"
      },
      "source": [
        "# Load data"
      ]
    },
    {
      "cell_type": "code",
      "execution_count": 8,
      "metadata": {
        "colab": {
          "base_uri": "https://localhost:8080/"
        },
        "id": "xa4spfPd_d3p",
        "outputId": "c4bc932b-2306-4621-8d89-580b716795f5"
      },
      "outputs": [
        {
          "output_type": "stream",
          "name": "stdout",
          "text": [
            "(60000, 785)\n",
            "(10000, 785)\n"
          ]
        }
      ],
      "source": [
        "# you can change the path if need be to make it work on colab\n",
        "train_csv = pd.read_csv('/content/drive/MyDrive/fashion-mnist_train.csv')\n",
        "test_csv = pd.read_csv('/content/drive/MyDrive/fashion-mnist_test.csv')\n",
        "\n",
        "\n",
        "print(train_csv.shape)\n",
        "print(test_csv.shape)"
      ]
    },
    {
      "cell_type": "code",
      "execution_count": 5,
      "metadata": {
        "colab": {
          "base_uri": "https://localhost:8080/"
        },
        "id": "cI5Ce0bx_d3x",
        "outputId": "cb36c5ea-d9c3-441a-efa1-0ad147734976"
      },
      "outputs": [
        {
          "output_type": "stream",
          "name": "stdout",
          "text": [
            "<class 'pandas.core.frame.DataFrame'>\n",
            "RangeIndex: 60000 entries, 0 to 59999\n",
            "Columns: 785 entries, label to pixel784\n",
            "dtypes: int64(785)\n",
            "memory usage: 359.3 MB\n",
            "None\n",
            "   label  pixel1  pixel2  pixel3  pixel4  pixel5  pixel6  pixel7  pixel8  \\\n",
            "0      2       0       0       0       0       0       0       0       0   \n",
            "1      9       0       0       0       0       0       0       0       0   \n",
            "2      6       0       0       0       0       0       0       0       5   \n",
            "3      0       0       0       0       1       2       0       0       0   \n",
            "4      3       0       0       0       0       0       0       0       0   \n",
            "\n",
            "   pixel9  ...  pixel775  pixel776  pixel777  pixel778  pixel779  pixel780  \\\n",
            "0       0  ...         0         0         0         0         0         0   \n",
            "1       0  ...         0         0         0         0         0         0   \n",
            "2       0  ...         0         0         0        30        43         0   \n",
            "3       0  ...         3         0         0         0         0         1   \n",
            "4       0  ...         0         0         0         0         0         0   \n",
            "\n",
            "   pixel781  pixel782  pixel783  pixel784  \n",
            "0         0         0         0         0  \n",
            "1         0         0         0         0  \n",
            "2         0         0         0         0  \n",
            "3         0         0         0         0  \n",
            "4         0         0         0         0  \n",
            "\n",
            "[5 rows x 785 columns]\n"
          ]
        }
      ],
      "source": [
        "print(train_csv.info())\n",
        "print(train_csv.head())"
      ]
    },
    {
      "cell_type": "code",
      "source": [
        "print(test_csv.info())\n",
        "print(test_csv.head())"
      ],
      "metadata": {
        "colab": {
          "base_uri": "https://localhost:8080/"
        },
        "id": "1flKy4nrRx50",
        "outputId": "710dcd31-75de-48d7-811f-54a918cc4338"
      },
      "execution_count": 9,
      "outputs": [
        {
          "output_type": "stream",
          "name": "stdout",
          "text": [
            "<class 'pandas.core.frame.DataFrame'>\n",
            "RangeIndex: 10000 entries, 0 to 9999\n",
            "Columns: 785 entries, label to pixel784\n",
            "dtypes: int64(785)\n",
            "memory usage: 59.9 MB\n",
            "None\n",
            "   label  pixel1  pixel2  pixel3  pixel4  pixel5  pixel6  pixel7  pixel8  \\\n",
            "0      0       0       0       0       0       0       0       0       9   \n",
            "1      1       0       0       0       0       0       0       0       0   \n",
            "2      2       0       0       0       0       0       0      14      53   \n",
            "3      2       0       0       0       0       0       0       0       0   \n",
            "4      3       0       0       0       0       0       0       0       0   \n",
            "\n",
            "   pixel9  ...  pixel775  pixel776  pixel777  pixel778  pixel779  pixel780  \\\n",
            "0       8  ...       103        87        56         0         0         0   \n",
            "1       0  ...        34         0         0         0         0         0   \n",
            "2      99  ...         0         0         0         0        63        53   \n",
            "3       0  ...       137       126       140         0       133       224   \n",
            "4       0  ...         0         0         0         0         0         0   \n",
            "\n",
            "   pixel781  pixel782  pixel783  pixel784  \n",
            "0         0         0         0         0  \n",
            "1         0         0         0         0  \n",
            "2        31         0         0         0  \n",
            "3       222        56         0         0  \n",
            "4         0         0         0         0  \n",
            "\n",
            "[5 rows x 785 columns]\n"
          ]
        }
      ]
    },
    {
      "cell_type": "markdown",
      "metadata": {
        "id": "VSa5zbpFRL1j"
      },
      "source": [
        "As the output, the first row is the label of each image, and each image has 784 pixels"
      ]
    },
    {
      "cell_type": "markdown",
      "metadata": {
        "id": "Lxm47SXLRL1j"
      },
      "source": [
        "## Dataset"
      ]
    },
    {
      "cell_type": "code",
      "execution_count": 10,
      "metadata": {
        "id": "ZzgxwITL_d38"
      },
      "outputs": [],
      "source": [
        "class FashionDataset(Dataset):\n",
        "    def __init__(self, data, transform=None):        \n",
        "        self.fashion_MNIST = list(data.values)\n",
        "        self.transform = transform\n",
        "        \n",
        "        label, image = [], []\n",
        "        \n",
        "        for i in self.fashion_MNIST:\n",
        "            label.append(i[0])\n",
        "            image.append(i[1:])\n",
        "        self.labels = np.asarray(label)\n",
        "        self.images = np.asarray(image).reshape(-1, 28, 28).astype('float32')\n",
        "        \n",
        "    def __len__(self):\n",
        "        return len(self.images)\n",
        "    \n",
        "    def __getitem__(self, idx):\n",
        "        label = self.labels[idx]\n",
        "        image = self.images[idx]      \n",
        "        \n",
        "        if self.transform is not None:\n",
        "            # transfrom the numpy array to PIL image before the transform function\n",
        "            pil_image = Image.fromarray(np.uint8(image)) \n",
        "            image = self.transform(pil_image)\n",
        "            \n",
        "        return image, label"
      ]
    },
    {
      "cell_type": "markdown",
      "metadata": {
        "id": "IYKE1t0rRL1k"
      },
      "source": [
        "## Transform"
      ]
    },
    {
      "cell_type": "markdown",
      "metadata": {
        "id": "Vpej90-i_d3_"
      },
      "source": [
        "Because the input size of AlexNet is $227*227$, and the image size of Fashion-MNIST is $28*28$, so we need to resize the image in the transform function. Since `transforms.Resize()` only works to the PIL Image,we transform the numpy array to PIL Image above"
      ]
    },
    {
      "cell_type": "code",
      "execution_count": 11,
      "metadata": {
        "id": "V_xGJIzw_d4A"
      },
      "outputs": [],
      "source": [
        "AlexTransform = transforms.Compose([\n",
        "    transforms.Resize((227, 227)),\n",
        "    transforms.ToTensor(),\n",
        "    transforms.Normalize((0.1307,), (0.3081,)) # official mean and standard deviation of the fashion mnist dataset.\n",
        "])"
      ]
    },
    {
      "cell_type": "markdown",
      "metadata": {
        "id": "1firajBn_d4E"
      },
      "source": [
        "## DataLoader"
      ]
    },
    {
      "cell_type": "code",
      "execution_count": 12,
      "metadata": {
        "id": "KbxiLT1f_d4F"
      },
      "outputs": [],
      "source": [
        "# load training data\n",
        "train_loader = DataLoader(\n",
        "    FashionDataset(train_csv, transform=AlexTransform), \n",
        "    batch_size=BATCH_SIZE, shuffle=True)\n",
        "\n",
        "# load testing data\n",
        "test_loader = DataLoader(\n",
        "    FashionDataset(test_csv, transform=AlexTransform), \n",
        "    batch_size=BATCH_SIZE, shuffle=True)"
      ]
    },
    {
      "cell_type": "markdown",
      "metadata": {
        "id": "dWxf4-vpRL1l"
      },
      "source": [
        "## Show images"
      ]
    },
    {
      "cell_type": "code",
      "execution_count": 13,
      "metadata": {
        "colab": {
          "base_uri": "https://localhost:8080/",
          "height": 287
        },
        "id": "BXgkzjwDRL1m",
        "outputId": "57d75208-371a-4b78-d6ad-ca1b4eb19fb1"
      },
      "outputs": [
        {
          "output_type": "stream",
          "name": "stdout",
          "text": [
            "Shirt\n"
          ]
        },
        {
          "output_type": "display_data",
          "data": {
            "text/plain": [
              "<Figure size 432x288 with 1 Axes>"
            ],
            "image/png": "[encoded data removed]"
          },
          "metadata": {
            "needs_background": "light"
          }
        }
      ],
      "source": [
        "# helper function to show an image\n",
        "def matplotlib_imshow(img):\n",
        "    img = img.mean(dim=0)\n",
        "    img = img / 2 + 0.5     # unnormalize\n",
        "    npimg = img.numpy()\n",
        "    plt.imshow(npimg, cmap=\"Greys\")\n",
        "\n",
        "# get some random training images\n",
        "dataiter = iter(train_loader)\n",
        "images, labels = dataiter.next()\n",
        "\n",
        "# creat grid of images\n",
        "img_grid = torchvision.utils.make_grid(images[0])\n",
        "\n",
        "# show images & labels\n",
        "matplotlib_imshow(img_grid)\n",
        "print(class_names[labels[0]])"
      ]
    },
    {
      "cell_type": "markdown",
      "metadata": {
        "id": "DJPnzI7O_d4I"
      },
      "source": [
        "# AlexNet"
      ]
    },
    {
      "cell_type": "markdown",
      "metadata": {
        "id": "ioBE5FcpRL1m"
      },
      "source": [
        "![](https://i.loli.net/2020/02/17/xd6oNRpWSK1cZy2.png)"
      ]
    },
    {
      "cell_type": "code",
      "execution_count": 14,
      "metadata": {
        "id": "pAi4_TFU_d4J"
      },
      "outputs": [],
      "source": [
        "# in layer 1 we have in_channels = 1 since the image is gray scale.\n",
        "# alexnet implementation\n",
        "# no of output channels in the final full connected layer is 3\n",
        "class fasion_mnist_alexnet(nn.Module):  \n",
        "    def __init__(self):\n",
        "        super().__init__()\n",
        "        self.conv1 = nn.Sequential(\n",
        "            nn.Conv2d(in_channels=1, out_channels=96, kernel_size=11, stride=4, padding=0),\n",
        "            nn.ReLU(),\n",
        "            nn.MaxPool2d(kernel_size=3, stride=2)\n",
        "        )\n",
        "        self.conv2 = nn.Sequential(\n",
        "            nn.Conv2d(96, 256, 5, 1, 2),\n",
        "            nn.ReLU(),\n",
        "            nn.MaxPool2d(3, 2)\n",
        "        )\n",
        "        self.conv3 = nn.Sequential(\n",
        "            nn.Conv2d(256, 384, 3, 1, 1),\n",
        "            nn.ReLU()\n",
        "        )\n",
        "        self.conv4 = nn.Sequential(\n",
        "            nn.Conv2d(384, 384, 3, 1, 1),\n",
        "            nn.ReLU()\n",
        "        )\n",
        "        self.conv5 = nn.Sequential(\n",
        "            nn.Conv2d(384, 256, 3, 1, 1),\n",
        "            nn.ReLU(),\n",
        "            nn.MaxPool2d(3, 2)\n",
        "        )\n",
        "        # fully connected layers, 4096 * 4096 = 256 * 6 * 6\n",
        "        self.fc1 = nn.Linear(256 * 6 * 6, 4096)\n",
        "        self.fc2 = nn.Linear(4096, 4096)\n",
        "        self.fc3 = nn.Linear(4096, 10)\n",
        "\n",
        "    def forward(self, x):\n",
        "        out = self.conv1(x)\n",
        "        out = self.conv2(out)\n",
        "        out = self.conv3(out)\n",
        "        out = self.conv4(out)\n",
        "        out = self.conv5(out)\n",
        "        out = out.view(out.size(0), -1)\n",
        "\n",
        "        out = F.relu(self.fc1(out))  # 256*6*6 -> 4096\n",
        "        out = F.dropout(out, 0.5)\n",
        "        out = F.relu(self.fc2(out))\n",
        "        out = F.dropout(out, 0.5)\n",
        "        out = self.fc3(out)\n",
        "        out = F.log_softmax(out, dim=1)\n",
        "\n",
        "        return out\n"
      ]
    },
    {
      "cell_type": "markdown",
      "metadata": {
        "id": "htbYHgHnZP0r"
      },
      "source": [
        "# model\n"
      ]
    },
    {
      "cell_type": "code",
      "execution_count": 15,
      "metadata": {
        "id": "1SqUo_21_d4M"
      },
      "outputs": [],
      "source": [
        "model = fasion_mnist_alexnet().to(DEVICE) # attaching the device to which gpu is currently active\n",
        "criterion = F.nll_loss\n",
        "optimizer = optim.Adam(model.parameters()) # used the adam optimizer instead of sgd as an experiment"
      ]
    },
    {
      "cell_type": "markdown",
      "metadata": {
        "id": "yOhyXpQNZUVI"
      },
      "source": [
        "## train funation"
      ]
    },
    {
      "cell_type": "code",
      "execution_count": 16,
      "metadata": {
        "id": "4X8gTFBh_d4O"
      },
      "outputs": [],
      "source": [
        "def train(model, device, train_loader, optimer, epoch):\n",
        "    model.train()\n",
        "    for batch_idx, (data, target) in enumerate(train_loader):\n",
        "        target = target.type(torch.LongTensor)\n",
        "        data, target = data.to(device), target.to(device)\n",
        "        optimizer.zero_grad()\n",
        "        output = model(data)\n",
        "        loss = criterion(output, target)\n",
        "        loss.backward()\n",
        "        optimizer.step()\n",
        "        if (batch_idx + 1) % 30 == 0:\n",
        "            print(\"Train Epoch:{} [{}/{} ({:.0f}%)]\\tLoss: {:.6f}\".format(\n",
        "                epoch, batch_idx * len(data), len(train_loader.dataset),\n",
        "                100. * batch_idx / len(train_loader), loss.item()))"
      ]
    },
    {
      "cell_type": "markdown",
      "metadata": {
        "id": "w4cCPiOPZXkC"
      },
      "source": [
        "## test function\n"
      ]
    },
    {
      "cell_type": "code",
      "execution_count": 17,
      "metadata": {
        "id": "kGhwH-H-_d4S"
      },
      "outputs": [],
      "source": [
        "def test(model, device, test_loader):\n",
        "    model.eval()\n",
        "    test_loss = 0\n",
        "    correct = 0\n",
        "    with torch.no_grad():\n",
        "        for data, target in test_loader:\n",
        "            data, target = data.to(device), target.to(device)\n",
        "            output = model(data)\n",
        "            test_loss += criterion(output, target, reduction='sum').item()\n",
        "            pred = output.max(1, keepdim=True)[1]\n",
        "            correct += pred.eq(target.view_as(pred)).sum().item()\n",
        "\n",
        "        test_loss /= len(test_loader.dataset)  # loss -> mean\n",
        "        print(\"\\nTest set: Average loss: {:.4f}, Accuracy: {}/{} ({:.0f}%)\\n\".format(\n",
        "            test_loss, correct, len(test_loader.dataset), 100. * correct / len(test_loader.dataset)))\n",
        "        print('='*50)\n"
      ]
    },
    {
      "cell_type": "markdown",
      "metadata": {
        "id": "wy6-W8TFZa-5"
      },
      "source": [
        "# Begin to Train"
      ]
    },
    {
      "cell_type": "code",
      "execution_count": 18,
      "metadata": {
        "colab": {
          "base_uri": "https://localhost:8080/"
        },
        "id": "Iy6cq2T2_d4V",
        "outputId": "9bd176f4-65b1-444a-950b-e5f0968e5b07"
      },
      "outputs": [
        {
          "output_type": "stream",
          "name": "stdout",
          "text": [
            "Train Epoch:1 [1856/60000 (3%)]\tLoss: 1.275515\n",
            "Train Epoch:1 [3776/60000 (6%)]\tLoss: 1.063237\n",
            "Train Epoch:1 [5696/60000 (9%)]\tLoss: 0.631029\n",
            "Train Epoch:1 [7616/60000 (13%)]\tLoss: 0.672628\n",
            "Train Epoch:1 [9536/60000 (16%)]\tLoss: 0.872189\n",
            "Train Epoch:1 [11456/60000 (19%)]\tLoss: 0.349507\n",
            "Train Epoch:1 [13376/60000 (22%)]\tLoss: 0.544889\n",
            "Train Epoch:1 [15296/60000 (25%)]\tLoss: 0.531889\n",
            "Train Epoch:1 [17216/60000 (29%)]\tLoss: 0.459904\n",
            "Train Epoch:1 [19136/60000 (32%)]\tLoss: 0.401788\n",
            "Train Epoch:1 [21056/60000 (35%)]\tLoss: 0.588005\n",
            "Train Epoch:1 [22976/60000 (38%)]\tLoss: 0.370931\n",
            "Train Epoch:1 [24896/60000 (41%)]\tLoss: 0.314519\n",
            "Train Epoch:1 [26816/60000 (45%)]\tLoss: 0.252456\n",
            "Train Epoch:1 [28736/60000 (48%)]\tLoss: 0.363886\n",
            "Train Epoch:1 [30656/60000 (51%)]\tLoss: 0.272032\n",
            "Train Epoch:1 [32576/60000 (54%)]\tLoss: 0.273779\n",
            "Train Epoch:1 [34496/60000 (57%)]\tLoss: 0.401314\n",
            "Train Epoch:1 [36416/60000 (61%)]\tLoss: 0.553794\n",
            "Train Epoch:1 [38336/60000 (64%)]\tLoss: 0.160597\n",
            "Train Epoch:1 [40256/60000 (67%)]\tLoss: 0.437574\n",
            "Train Epoch:1 [42176/60000 (70%)]\tLoss: 0.430770\n",
            "Train Epoch:1 [44096/60000 (73%)]\tLoss: 0.257287\n",
            "Train Epoch:1 [46016/60000 (77%)]\tLoss: 0.199844\n",
            "Train Epoch:1 [47936/60000 (80%)]\tLoss: 0.367225\n",
            "Train Epoch:1 [49856/60000 (83%)]\tLoss: 0.316936\n",
            "Train Epoch:1 [51776/60000 (86%)]\tLoss: 0.395126\n",
            "Train Epoch:1 [53696/60000 (89%)]\tLoss: 0.284808\n",
            "Train Epoch:1 [55616/60000 (93%)]\tLoss: 0.333950\n",
            "Train Epoch:1 [57536/60000 (96%)]\tLoss: 0.381611\n",
            "Train Epoch:1 [59456/60000 (99%)]\tLoss: 0.445841\n",
            "\n",
            "Test set: Average loss: 0.3436, Accuracy: 8736/10000 (87%)\n",
            "\n",
            "==================================================\n",
            "Train Epoch:2 [1856/60000 (3%)]\tLoss: 0.429643\n",
            "Train Epoch:2 [3776/60000 (6%)]\tLoss: 0.236180\n",
            "Train Epoch:2 [5696/60000 (9%)]\tLoss: 0.350577\n",
            "Train Epoch:2 [7616/60000 (13%)]\tLoss: 0.400987\n",
            "Train Epoch:2 [9536/60000 (16%)]\tLoss: 0.364180\n",
            "Train Epoch:2 [11456/60000 (19%)]\tLoss: 0.287512\n",
            "Train Epoch:2 [13376/60000 (22%)]\tLoss: 0.268568\n",
            "Train Epoch:2 [15296/60000 (25%)]\tLoss: 0.217182\n",
            "Train Epoch:2 [17216/60000 (29%)]\tLoss: 0.481075\n",
            "Train Epoch:2 [19136/60000 (32%)]\tLoss: 0.495688\n",
            "Train Epoch:2 [21056/60000 (35%)]\tLoss: 0.307126\n",
            "Train Epoch:2 [22976/60000 (38%)]\tLoss: 0.264748\n",
            "Train Epoch:2 [24896/60000 (41%)]\tLoss: 0.278402\n",
            "Train Epoch:2 [26816/60000 (45%)]\tLoss: 0.092791\n",
            "Train Epoch:2 [28736/60000 (48%)]\tLoss: 0.493630\n",
            "Train Epoch:2 [30656/60000 (51%)]\tLoss: 0.219684\n",
            "Train Epoch:2 [32576/60000 (54%)]\tLoss: 0.315784\n",
            "Train Epoch:2 [34496/60000 (57%)]\tLoss: 0.404779\n",
            "Train Epoch:2 [36416/60000 (61%)]\tLoss: 0.252108\n",
            "Train Epoch:2 [38336/60000 (64%)]\tLoss: 0.372840\n",
            "Train Epoch:2 [40256/60000 (67%)]\tLoss: 0.468164\n",
            "Train Epoch:2 [42176/60000 (70%)]\tLoss: 0.237106\n",
            "Train Epoch:2 [44096/60000 (73%)]\tLoss: 0.408557\n",
            "Train Epoch:2 [46016/60000 (77%)]\tLoss: 0.229368\n",
            "Train Epoch:2 [47936/60000 (80%)]\tLoss: 0.281985\n",
            "Train Epoch:2 [49856/60000 (83%)]\tLoss: 0.453379\n",
            "Train Epoch:2 [51776/60000 (86%)]\tLoss: 0.264275\n",
            "Train Epoch:2 [53696/60000 (89%)]\tLoss: 0.191157\n",
            "Train Epoch:2 [55616/60000 (93%)]\tLoss: 0.313859\n",
            "Train Epoch:2 [57536/60000 (96%)]\tLoss: 0.407662\n",
            "Train Epoch:2 [59456/60000 (99%)]\tLoss: 0.348027\n",
            "\n",
            "Test set: Average loss: 0.3143, Accuracy: 8873/10000 (89%)\n",
            "\n",
            "==================================================\n",
            "Train Epoch:3 [1856/60000 (3%)]\tLoss: 0.272944\n",
            "Train Epoch:3 [3776/60000 (6%)]\tLoss: 0.155696\n",
            "Train Epoch:3 [5696/60000 (9%)]\tLoss: 0.342735\n",
            "Train Epoch:3 [7616/60000 (13%)]\tLoss: 0.458422\n",
            "Train Epoch:3 [9536/60000 (16%)]\tLoss: 0.249939\n",
            "Train Epoch:3 [11456/60000 (19%)]\tLoss: 0.270132\n",
            "Train Epoch:3 [13376/60000 (22%)]\tLoss: 0.266769\n",
            "Train Epoch:3 [15296/60000 (25%)]\tLoss: 0.220297\n",
            "Train Epoch:3 [17216/60000 (29%)]\tLoss: 0.280488\n",
            "Train Epoch:3 [19136/60000 (32%)]\tLoss: 0.243174\n",
            "Train Epoch:3 [21056/60000 (35%)]\tLoss: 0.183516\n",
            "Train Epoch:3 [22976/60000 (38%)]\tLoss: 0.340481\n",
            "Train Epoch:3 [24896/60000 (41%)]\tLoss: 0.307905\n",
            "Train Epoch:3 [26816/60000 (45%)]\tLoss: 0.226331\n",
            "Train Epoch:3 [28736/60000 (48%)]\tLoss: 0.254078\n",
            "Train Epoch:3 [30656/60000 (51%)]\tLoss: 0.194960\n",
            "Train Epoch:3 [32576/60000 (54%)]\tLoss: 0.385507\n",
            "Train Epoch:3 [34496/60000 (57%)]\tLoss: 0.281975\n",
            "Train Epoch:3 [36416/60000 (61%)]\tLoss: 0.508631\n",
            "Train Epoch:3 [38336/60000 (64%)]\tLoss: 0.414875\n",
            "Train Epoch:3 [40256/60000 (67%)]\tLoss: 0.404074\n",
            "Train Epoch:3 [42176/60000 (70%)]\tLoss: 0.316126\n",
            "Train Epoch:3 [44096/60000 (73%)]\tLoss: 0.283058\n",
            "Train Epoch:3 [46016/60000 (77%)]\tLoss: 0.332896\n",
            "Train Epoch:3 [47936/60000 (80%)]\tLoss: 0.211023\n",
            "Train Epoch:3 [49856/60000 (83%)]\tLoss: 0.209646\n",
            "Train Epoch:3 [51776/60000 (86%)]\tLoss: 0.299024\n",
            "Train Epoch:3 [53696/60000 (89%)]\tLoss: 0.237618\n",
            "Train Epoch:3 [55616/60000 (93%)]\tLoss: 0.222554\n",
            "Train Epoch:3 [57536/60000 (96%)]\tLoss: 0.320429\n",
            "Train Epoch:3 [59456/60000 (99%)]\tLoss: 0.171714\n",
            "\n",
            "Test set: Average loss: 0.3130, Accuracy: 8840/10000 (88%)\n",
            "\n",
            "==================================================\n",
            "Train Epoch:4 [1856/60000 (3%)]\tLoss: 0.295510\n",
            "Train Epoch:4 [3776/60000 (6%)]\tLoss: 0.576218\n",
            "Train Epoch:4 [5696/60000 (9%)]\tLoss: 0.252606\n",
            "Train Epoch:4 [7616/60000 (13%)]\tLoss: 0.266635\n",
            "Train Epoch:4 [9536/60000 (16%)]\tLoss: 0.388251\n",
            "Train Epoch:4 [11456/60000 (19%)]\tLoss: 0.214590\n",
            "Train Epoch:4 [13376/60000 (22%)]\tLoss: 0.433529\n",
            "Train Epoch:4 [15296/60000 (25%)]\tLoss: 0.256599\n",
            "Train Epoch:4 [17216/60000 (29%)]\tLoss: 0.310648\n",
            "Train Epoch:4 [19136/60000 (32%)]\tLoss: 0.341061\n",
            "Train Epoch:4 [21056/60000 (35%)]\tLoss: 0.245258\n",
            "Train Epoch:4 [22976/60000 (38%)]\tLoss: 0.241922\n",
            "Train Epoch:4 [24896/60000 (41%)]\tLoss: 0.187586\n",
            "Train Epoch:4 [26816/60000 (45%)]\tLoss: 0.255469\n",
            "Train Epoch:4 [28736/60000 (48%)]\tLoss: 0.650699\n",
            "Train Epoch:4 [30656/60000 (51%)]\tLoss: 0.520884\n",
            "Train Epoch:4 [32576/60000 (54%)]\tLoss: 0.260414\n",
            "Train Epoch:4 [34496/60000 (57%)]\tLoss: 0.323651\n",
            "Train Epoch:4 [36416/60000 (61%)]\tLoss: 0.225196\n",
            "Train Epoch:4 [38336/60000 (64%)]\tLoss: 0.466866\n",
            "Train Epoch:4 [40256/60000 (67%)]\tLoss: 0.479634\n",
            "Train Epoch:4 [42176/60000 (70%)]\tLoss: 0.363404\n",
            "Train Epoch:4 [44096/60000 (73%)]\tLoss: 0.262881\n",
            "Train Epoch:4 [46016/60000 (77%)]\tLoss: 0.382669\n",
            "Train Epoch:4 [47936/60000 (80%)]\tLoss: 0.334876\n",
            "Train Epoch:4 [49856/60000 (83%)]\tLoss: 0.219426\n",
            "Train Epoch:4 [51776/60000 (86%)]\tLoss: 0.281327\n",
            "Train Epoch:4 [53696/60000 (89%)]\tLoss: 0.251270\n",
            "Train Epoch:4 [55616/60000 (93%)]\tLoss: 0.202485\n",
            "Train Epoch:4 [57536/60000 (96%)]\tLoss: 0.326883\n",
            "Train Epoch:4 [59456/60000 (99%)]\tLoss: 0.365006\n",
            "\n",
            "Test set: Average loss: 0.2942, Accuracy: 8913/10000 (89%)\n",
            "\n",
            "==================================================\n",
            "Train Epoch:5 [1856/60000 (3%)]\tLoss: 0.219536\n",
            "Train Epoch:5 [3776/60000 (6%)]\tLoss: 0.370048\n",
            "Train Epoch:5 [5696/60000 (9%)]\tLoss: 0.245301\n",
            "Train Epoch:5 [7616/60000 (13%)]\tLoss: 0.200644\n",
            "Train Epoch:5 [9536/60000 (16%)]\tLoss: 0.208164\n",
            "Train Epoch:5 [11456/60000 (19%)]\tLoss: 0.173603\n",
            "Train Epoch:5 [13376/60000 (22%)]\tLoss: 0.250426\n",
            "Train Epoch:5 [15296/60000 (25%)]\tLoss: 0.284559\n",
            "Train Epoch:5 [17216/60000 (29%)]\tLoss: 0.231458\n",
            "Train Epoch:5 [19136/60000 (32%)]\tLoss: 0.409046\n",
            "Train Epoch:5 [21056/60000 (35%)]\tLoss: 0.193424\n",
            "Train Epoch:5 [22976/60000 (38%)]\tLoss: 0.310159\n",
            "Train Epoch:5 [24896/60000 (41%)]\tLoss: 0.250731\n",
            "Train Epoch:5 [26816/60000 (45%)]\tLoss: 0.386457\n",
            "Train Epoch:5 [28736/60000 (48%)]\tLoss: 0.280687\n",
            "Train Epoch:5 [30656/60000 (51%)]\tLoss: 0.162051\n",
            "Train Epoch:5 [32576/60000 (54%)]\tLoss: 0.235390\n",
            "Train Epoch:5 [34496/60000 (57%)]\tLoss: 0.283555\n",
            "Train Epoch:5 [36416/60000 (61%)]\tLoss: 0.171710\n",
            "Train Epoch:5 [38336/60000 (64%)]\tLoss: 0.259174\n",
            "Train Epoch:5 [40256/60000 (67%)]\tLoss: 0.236172\n",
            "Train Epoch:5 [42176/60000 (70%)]\tLoss: 0.379213\n",
            "Train Epoch:5 [44096/60000 (73%)]\tLoss: 0.257234\n",
            "Train Epoch:5 [46016/60000 (77%)]\tLoss: 0.253487\n",
            "Train Epoch:5 [47936/60000 (80%)]\tLoss: 0.318193\n",
            "Train Epoch:5 [49856/60000 (83%)]\tLoss: 0.265416\n",
            "Train Epoch:5 [51776/60000 (86%)]\tLoss: 0.320445\n",
            "Train Epoch:5 [53696/60000 (89%)]\tLoss: 0.320522\n",
            "Train Epoch:5 [55616/60000 (93%)]\tLoss: 0.175444\n",
            "Train Epoch:5 [57536/60000 (96%)]\tLoss: 0.312635\n",
            "Train Epoch:5 [59456/60000 (99%)]\tLoss: 0.352599\n",
            "\n",
            "Test set: Average loss: 0.2915, Accuracy: 8943/10000 (89%)\n",
            "\n",
            "==================================================\n"
          ]
        }
      ],
      "source": [
        "# the accuracy increase as the number of epochs are increased\n",
        "for epoch in range(1, EPOCHS+1):\n",
        "    train(model, DEVICE, train_loader, optimizer, epoch)\n",
        "    test(model, DEVICE, test_loader)"
      ]
    },
    {
      "cell_type": "code",
      "source": [
        ""
      ],
      "metadata": {
        "id": "bevFEBXRgvPP"
      },
      "execution_count": null,
      "outputs": []
    }
  ],
  "metadata": {
    "accelerator": "GPU",
    "colab": {
      "collapsed_sections": [],
      "name": "DL_HW2.ipynb",
      "provenance": []
    },
    "kernelspec": {
      "display_name": "Pytorch for Deeplearning",
      "language": "python",
      "name": "python3"
    },
    "language_info": {
      "codemirror_mode": {
        "name": "ipython",
        "version": 3
      },
      "file_extension": ".py",
      "mimetype": "text/x-python",
      "name": "python",
      "nbconvert_exporter": "python",
      "pygments_lexer": "ipython3",
      "version": "3.6.6"
    }
  },
  "nbformat": 4,
  "nbformat_minor": 0
}